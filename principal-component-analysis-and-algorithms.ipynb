{
 "cells": [
  {
   "cell_type": "code",
   "execution_count": 1,
   "metadata": {
    "_cell_guid": "b1076dfc-b9ad-4769-8c92-a6c4dae69d19",
    "_uuid": "8f2839f25d086af736a60e9eeb907d3b93b6e0e5",
    "execution": {
     "iopub.execute_input": "2020-08-14T23:47:42.847274Z",
     "iopub.status.busy": "2020-08-14T23:47:42.846185Z",
     "iopub.status.idle": "2020-08-14T23:47:42.850101Z",
     "shell.execute_reply": "2020-08-14T23:47:42.849325Z"
    },
    "papermill": {
     "duration": 0.026223,
     "end_time": "2020-08-14T23:47:42.850235",
     "exception": false,
     "start_time": "2020-08-14T23:47:42.824012",
     "status": "completed"
    },
    "tags": []
   },
   "outputs": [],
   "source": [
    "# This Python 3 environment comes with many helpful analytics libraries installed\n",
    "# It is defined by the kaggle/python Docker image: https://github.com/kaggle/docker-python\n",
    "# For example, here's several helpful packages to load\n",
    "\n",
    "import numpy as np # linear algebra\n",
    "import pandas as pd # data processing, CSV file I/O (e.g. pd.read_csv)\n",
    "\n",
    "# Input data files are available in the read-only \"../input/\" directory\n",
    "# For example, running this (by clicking run or pressing Shift+Enter) will list all files under the input directory\n",
    "\n",
    "import os\n",
    "for dirname, _, filenames in os.walk('/kaggle/input'):\n",
    "    for filename in filenames:\n",
    "        print(os.path.join(dirname, filename))\n",
    "\n",
    "# You can write up to 5GB to the current directory (/kaggle/working/) that gets preserved as output when you create a version using \"Save & Run All\" \n",
    "# You can also write temporary files to /kaggle/temp/, but they won't be saved outside of the current session"
   ]
  },
  {
   "cell_type": "markdown",
   "execution_count": null,
   "metadata": {
    "papermill": {
     "duration": 0.011768,
     "end_time": "2020-08-14T23:47:42.874667",
     "exception": false,
     "start_time": "2020-08-14T23:47:42.862899",
     "status": "completed"
    },
    "tags": []
   },
   "source": [
    "* It can be used as a dimensionality reduction method, which can help to minimize the number of the variables (or columns of a data frame) without losing much of the original information. This is useful especially when you are building machine learning models based on the data with many variables like 100s or 1000s."
   ]
  },
  {
   "cell_type": "markdown",
   "execution_count": null,
   "metadata": {
    "papermill": {
     "duration": 0.011808,
     "end_time": "2020-08-14T23:47:42.900486",
     "exception": false,
     "start_time": "2020-08-14T23:47:42.888678",
     "status": "completed"
    },
    "tags": []
   },
   "source": [
    "* It is an unsupervised stastical technique used to examine the interrelations among a set of variables in order to identify the underlying structure of those variables\n",
    "\n",
    "* It is also known as general factor analysis\n",
    "\n",
    "* While regression determines a line of best fit to a dataset, factor analysis or principal component analysis determines several orthogonal lines of best fit to the dataset.Orthogonal means at right angles. The lines are perpendicular to each other in n dimensional space where n dimensional space is the variable sample space. There as many dimensions as there are variables,i.e., a dataset with 4 variables the sample space is 4 dimensional.\n",
    "\n",
    "* If we use this technique on a dataset with large numbers of variables, we can compress the amount of explained variation to just a few components.\n",
    "\n"
   ]
  },
  {
   "cell_type": "markdown",
   "execution_count": null,
   "metadata": {
    "papermill": {
     "duration": 0.011965,
     "end_time": "2020-08-14T23:47:42.924596",
     "exception": false,
     "start_time": "2020-08-14T23:47:42.912631",
     "status": "completed"
    },
    "tags": []
   },
   "source": [
    "* PCA is just a transformation of our data and attempts to find out what features excplain the most variance in our data\n",
    "\n",
    "* We try to get rid of the components that do not explain enough the variance in our data."
   ]
  },
  {
   "cell_type": "code",
   "execution_count": 2,
   "metadata": {
    "execution": {
     "iopub.execute_input": "2020-08-14T23:47:42.956770Z",
     "iopub.status.busy": "2020-08-14T23:47:42.955936Z",
     "iopub.status.idle": "2020-08-14T23:47:44.078597Z",
     "shell.execute_reply": "2020-08-14T23:47:44.077672Z"
    },
    "papermill": {
     "duration": 1.141013,
     "end_time": "2020-08-14T23:47:44.078746",
     "exception": false,
     "start_time": "2020-08-14T23:47:42.937733",
     "status": "completed"
    },
    "tags": []
   },
   "outputs": [],
   "source": [
    "import matplotlib.pyplot as plt\n",
    "import seaborn as sns\n",
    "%matplotlib inline"
   ]
  },
  {
   "cell_type": "code",
   "execution_count": 3,
   "metadata": {
    "_cell_guid": "79c7e3d0-c299-4dcb-8224-4455121ee9b0",
    "_uuid": "d629ff2d2480ee46fbb7e2d37f6b5fab8052498a",
    "execution": {
     "iopub.execute_input": "2020-08-14T23:47:44.109431Z",
     "iopub.status.busy": "2020-08-14T23:47:44.108589Z",
     "iopub.status.idle": "2020-08-14T23:47:44.304658Z",
     "shell.execute_reply": "2020-08-14T23:47:44.303916Z"
    },
    "papermill": {
     "duration": 0.213709,
     "end_time": "2020-08-14T23:47:44.304796",
     "exception": false,
     "start_time": "2020-08-14T23:47:44.091087",
     "status": "completed"
    },
    "tags": []
   },
   "outputs": [
    {
     "data": {
      "text/plain": [
       "dict_keys(['data', 'target', 'frame', 'target_names', 'DESCR', 'feature_names', 'filename'])"
      ]
     },
     "execution_count": 3,
     "metadata": {},
     "output_type": "execute_result"
    }
   ],
   "source": [
    "from sklearn.datasets import load_breast_cancer\n",
    "cancer=load_breast_cancer()\n",
    "cancer.keys()\n",
    "#This is a special type of dataset of sklearn"
   ]
  },
  {
   "cell_type": "code",
   "execution_count": 4,
   "metadata": {
    "execution": {
     "iopub.execute_input": "2020-08-14T23:47:44.335555Z",
     "iopub.status.busy": "2020-08-14T23:47:44.334676Z",
     "iopub.status.idle": "2020-08-14T23:47:44.342502Z",
     "shell.execute_reply": "2020-08-14T23:47:44.341202Z"
    },
    "papermill": {
     "duration": 0.025604,
     "end_time": "2020-08-14T23:47:44.342746",
     "exception": false,
     "start_time": "2020-08-14T23:47:44.317142",
     "status": "completed"
    },
    "tags": []
   },
   "outputs": [
    {
     "name": "stdout",
     "output_type": "stream",
     "text": [
      ".. _breast_cancer_dataset:\n",
      "\n",
      "Breast cancer wisconsin (diagnostic) dataset\n",
      "--------------------------------------------\n",
      "\n",
      "**Data Set Characteristics:**\n",
      "\n",
      "    :Number of Instances: 569\n",
      "\n",
      "    :Number of Attributes: 30 numeric, predictive attributes and the class\n",
      "\n",
      "    :Attribute Information:\n",
      "        - radius (mean of distances from center to points on the perimeter)\n",
      "        - texture (standard deviation of gray-scale values)\n",
      "        - perimeter\n",
      "        - area\n",
      "        - smoothness (local variation in radius lengths)\n",
      "        - compactness (perimeter^2 / area - 1.0)\n",
      "        - concavity (severity of concave portions of the contour)\n",
      "        - concave points (number of concave portions of the contour)\n",
      "        - symmetry\n",
      "        - fractal dimension (\"coastline approximation\" - 1)\n",
      "\n",
      "        The mean, standard error, and \"worst\" or largest (mean of the three\n",
      "        worst/largest values) of these features were computed for each image,\n",
      "        resulting in 30 features.  For instance, field 0 is Mean Radius, field\n",
      "        10 is Radius SE, field 20 is Worst Radius.\n",
      "\n",
      "        - class:\n",
      "                - WDBC-Malignant\n",
      "                - WDBC-Benign\n",
      "\n",
      "    :Summary Statistics:\n",
      "\n",
      "    ===================================== ====== ======\n",
      "                                           Min    Max\n",
      "    ===================================== ====== ======\n",
      "    radius (mean):                        6.981  28.11\n",
      "    texture (mean):                       9.71   39.28\n",
      "    perimeter (mean):                     43.79  188.5\n",
      "    area (mean):                          143.5  2501.0\n",
      "    smoothness (mean):                    0.053  0.163\n",
      "    compactness (mean):                   0.019  0.345\n",
      "    concavity (mean):                     0.0    0.427\n",
      "    concave points (mean):                0.0    0.201\n",
      "    symmetry (mean):                      0.106  0.304\n",
      "    fractal dimension (mean):             0.05   0.097\n",
      "    radius (standard error):              0.112  2.873\n",
      "    texture (standard error):             0.36   4.885\n",
      "    perimeter (standard error):           0.757  21.98\n",
      "    area (standard error):                6.802  542.2\n",
      "    smoothness (standard error):          0.002  0.031\n",
      "    compactness (standard error):         0.002  0.135\n",
      "    concavity (standard error):           0.0    0.396\n",
      "    concave points (standard error):      0.0    0.053\n",
      "    symmetry (standard error):            0.008  0.079\n",
      "    fractal dimension (standard error):   0.001  0.03\n",
      "    radius (worst):                       7.93   36.04\n",
      "    texture (worst):                      12.02  49.54\n",
      "    perimeter (worst):                    50.41  251.2\n",
      "    area (worst):                         185.2  4254.0\n",
      "    smoothness (worst):                   0.071  0.223\n",
      "    compactness (worst):                  0.027  1.058\n",
      "    concavity (worst):                    0.0    1.252\n",
      "    concave points (worst):               0.0    0.291\n",
      "    symmetry (worst):                     0.156  0.664\n",
      "    fractal dimension (worst):            0.055  0.208\n",
      "    ===================================== ====== ======\n",
      "\n",
      "    :Missing Attribute Values: None\n",
      "\n",
      "    :Class Distribution: 212 - Malignant, 357 - Benign\n",
      "\n",
      "    :Creator:  Dr. William H. Wolberg, W. Nick Street, Olvi L. Mangasarian\n",
      "\n",
      "    :Donor: Nick Street\n",
      "\n",
      "    :Date: November, 1995\n",
      "\n",
      "This is a copy of UCI ML Breast Cancer Wisconsin (Diagnostic) datasets.\n",
      "https://goo.gl/U2Uwz2\n",
      "\n",
      "Features are computed from a digitized image of a fine needle\n",
      "aspirate (FNA) of a breast mass.  They describe\n",
      "characteristics of the cell nuclei present in the image.\n",
      "\n",
      "Separating plane described above was obtained using\n",
      "Multisurface Method-Tree (MSM-T) [K. P. Bennett, \"Decision Tree\n",
      "Construction Via Linear Programming.\" Proceedings of the 4th\n",
      "Midwest Artificial Intelligence and Cognitive Science Society,\n",
      "pp. 97-101, 1992], a classification method which uses linear\n",
      "programming to construct a decision tree.  Relevant features\n",
      "were selected using an exhaustive search in the space of 1-4\n",
      "features and 1-3 separating planes.\n",
      "\n",
      "The actual linear program used to obtain the separating plane\n",
      "in the 3-dimensional space is that described in:\n",
      "[K. P. Bennett and O. L. Mangasarian: \"Robust Linear\n",
      "Programming Discrimination of Two Linearly Inseparable Sets\",\n",
      "Optimization Methods and Software 1, 1992, 23-34].\n",
      "\n",
      "This database is also available through the UW CS ftp server:\n",
      "\n",
      "ftp ftp.cs.wisc.edu\n",
      "cd math-prog/cpo-dataset/machine-learn/WDBC/\n",
      "\n",
      ".. topic:: References\n",
      "\n",
      "   - W.N. Street, W.H. Wolberg and O.L. Mangasarian. Nuclear feature extraction \n",
      "     for breast tumor diagnosis. IS&T/SPIE 1993 International Symposium on \n",
      "     Electronic Imaging: Science and Technology, volume 1905, pages 861-870,\n",
      "     San Jose, CA, 1993.\n",
      "   - O.L. Mangasarian, W.N. Street and W.H. Wolberg. Breast cancer diagnosis and \n",
      "     prognosis via linear programming. Operations Research, 43(4), pages 570-577, \n",
      "     July-August 1995.\n",
      "   - W.H. Wolberg, W.N. Street, and O.L. Mangasarian. Machine learning techniques\n",
      "     to diagnose breast cancer from fine-needle aspirates. Cancer Letters 77 (1994) \n",
      "     163-171.\n"
     ]
    }
   ],
   "source": [
    "print(cancer[\"DESCR\"])"
   ]
  },
  {
   "cell_type": "markdown",
   "execution_count": null,
   "metadata": {
    "papermill": {
     "duration": 0.012712,
     "end_time": "2020-08-14T23:47:44.368820",
     "exception": false,
     "start_time": "2020-08-14T23:47:44.356108",
     "status": "completed"
    },
    "tags": []
   },
   "source": [
    "* The data contains 569 rows and 30 variables or columns\n",
    "\n",
    "* What we are going to do is to figure out what compenents are important to explain the variance of the data."
   ]
  },
  {
   "cell_type": "code",
   "execution_count": 5,
   "metadata": {
    "execution": {
     "iopub.execute_input": "2020-08-14T23:47:44.402017Z",
     "iopub.status.busy": "2020-08-14T23:47:44.400881Z",
     "iopub.status.idle": "2020-08-14T23:47:44.405632Z",
     "shell.execute_reply": "2020-08-14T23:47:44.405030Z"
    },
    "papermill": {
     "duration": 0.02427,
     "end_time": "2020-08-14T23:47:44.405766",
     "exception": false,
     "start_time": "2020-08-14T23:47:44.381496",
     "status": "completed"
    },
    "tags": []
   },
   "outputs": [
    {
     "data": {
      "text/plain": [
       "array([[1.799e+01, 1.038e+01, 1.228e+02, ..., 2.654e-01, 4.601e-01,\n",
       "        1.189e-01],\n",
       "       [2.057e+01, 1.777e+01, 1.329e+02, ..., 1.860e-01, 2.750e-01,\n",
       "        8.902e-02],\n",
       "       [1.969e+01, 2.125e+01, 1.300e+02, ..., 2.430e-01, 3.613e-01,\n",
       "        8.758e-02],\n",
       "       ...,\n",
       "       [1.660e+01, 2.808e+01, 1.083e+02, ..., 1.418e-01, 2.218e-01,\n",
       "        7.820e-02],\n",
       "       [2.060e+01, 2.933e+01, 1.401e+02, ..., 2.650e-01, 4.087e-01,\n",
       "        1.240e-01],\n",
       "       [7.760e+00, 2.454e+01, 4.792e+01, ..., 0.000e+00, 2.871e-01,\n",
       "        7.039e-02]])"
      ]
     },
     "execution_count": 5,
     "metadata": {},
     "output_type": "execute_result"
    }
   ],
   "source": [
    "cancer[\"data\"]\n",
    "# This is the data"
   ]
  },
  {
   "cell_type": "code",
   "execution_count": 6,
   "metadata": {
    "execution": {
     "iopub.execute_input": "2020-08-14T23:47:44.438554Z",
     "iopub.status.busy": "2020-08-14T23:47:44.437316Z",
     "iopub.status.idle": "2020-08-14T23:47:44.441186Z",
     "shell.execute_reply": "2020-08-14T23:47:44.441800Z"
    },
    "papermill": {
     "duration": 0.023463,
     "end_time": "2020-08-14T23:47:44.441970",
     "exception": false,
     "start_time": "2020-08-14T23:47:44.418507",
     "status": "completed"
    },
    "tags": []
   },
   "outputs": [
    {
     "data": {
      "text/plain": [
       "array(['mean radius', 'mean texture', 'mean perimeter', 'mean area',\n",
       "       'mean smoothness', 'mean compactness', 'mean concavity',\n",
       "       'mean concave points', 'mean symmetry', 'mean fractal dimension',\n",
       "       'radius error', 'texture error', 'perimeter error', 'area error',\n",
       "       'smoothness error', 'compactness error', 'concavity error',\n",
       "       'concave points error', 'symmetry error',\n",
       "       'fractal dimension error', 'worst radius', 'worst texture',\n",
       "       'worst perimeter', 'worst area', 'worst smoothness',\n",
       "       'worst compactness', 'worst concavity', 'worst concave points',\n",
       "       'worst symmetry', 'worst fractal dimension'], dtype='<U23')"
      ]
     },
     "execution_count": 6,
     "metadata": {},
     "output_type": "execute_result"
    }
   ],
   "source": [
    "cancer[\"feature_names\"]\n",
    "#This is the feature names of the data"
   ]
  },
  {
   "cell_type": "markdown",
   "execution_count": null,
   "metadata": {
    "papermill": {
     "duration": 0.012667,
     "end_time": "2020-08-14T23:47:44.467767",
     "exception": false,
     "start_time": "2020-08-14T23:47:44.455100",
     "status": "completed"
    },
    "tags": []
   },
   "source": [
    "* Now we are going to combine the feature names with the data and make a dataframes"
   ]
  },
  {
   "cell_type": "code",
   "execution_count": 7,
   "metadata": {
    "execution": {
     "iopub.execute_input": "2020-08-14T23:47:44.523025Z",
     "iopub.status.busy": "2020-08-14T23:47:44.504036Z",
     "iopub.status.idle": "2020-08-14T23:47:44.545224Z",
     "shell.execute_reply": "2020-08-14T23:47:44.544389Z"
    },
    "papermill": {
     "duration": 0.064509,
     "end_time": "2020-08-14T23:47:44.545379",
     "exception": false,
     "start_time": "2020-08-14T23:47:44.480870",
     "status": "completed"
    },
    "tags": []
   },
   "outputs": [
    {
     "data": {
      "text/html": [
       "<div>\n",
       "<style scoped>\n",
       "    .dataframe tbody tr th:only-of-type {\n",
       "        vertical-align: middle;\n",
       "    }\n",
       "\n",
       "    .dataframe tbody tr th {\n",
       "        vertical-align: top;\n",
       "    }\n",
       "\n",
       "    .dataframe thead th {\n",
       "        text-align: right;\n",
       "    }\n",
       "</style>\n",
       "<table border=\"1\" class=\"dataframe\">\n",
       "  <thead>\n",
       "    <tr style=\"text-align: right;\">\n",
       "      <th></th>\n",
       "      <th>mean radius</th>\n",
       "      <th>mean texture</th>\n",
       "      <th>mean perimeter</th>\n",
       "      <th>mean area</th>\n",
       "      <th>mean smoothness</th>\n",
       "      <th>mean compactness</th>\n",
       "      <th>mean concavity</th>\n",
       "      <th>mean concave points</th>\n",
       "      <th>mean symmetry</th>\n",
       "      <th>mean fractal dimension</th>\n",
       "      <th>...</th>\n",
       "      <th>worst radius</th>\n",
       "      <th>worst texture</th>\n",
       "      <th>worst perimeter</th>\n",
       "      <th>worst area</th>\n",
       "      <th>worst smoothness</th>\n",
       "      <th>worst compactness</th>\n",
       "      <th>worst concavity</th>\n",
       "      <th>worst concave points</th>\n",
       "      <th>worst symmetry</th>\n",
       "      <th>worst fractal dimension</th>\n",
       "    </tr>\n",
       "  </thead>\n",
       "  <tbody>\n",
       "    <tr>\n",
       "      <th>0</th>\n",
       "      <td>17.99</td>\n",
       "      <td>10.38</td>\n",
       "      <td>122.80</td>\n",
       "      <td>1001.0</td>\n",
       "      <td>0.11840</td>\n",
       "      <td>0.27760</td>\n",
       "      <td>0.3001</td>\n",
       "      <td>0.14710</td>\n",
       "      <td>0.2419</td>\n",
       "      <td>0.07871</td>\n",
       "      <td>...</td>\n",
       "      <td>25.38</td>\n",
       "      <td>17.33</td>\n",
       "      <td>184.60</td>\n",
       "      <td>2019.0</td>\n",
       "      <td>0.1622</td>\n",
       "      <td>0.6656</td>\n",
       "      <td>0.7119</td>\n",
       "      <td>0.2654</td>\n",
       "      <td>0.4601</td>\n",
       "      <td>0.11890</td>\n",
       "    </tr>\n",
       "    <tr>\n",
       "      <th>1</th>\n",
       "      <td>20.57</td>\n",
       "      <td>17.77</td>\n",
       "      <td>132.90</td>\n",
       "      <td>1326.0</td>\n",
       "      <td>0.08474</td>\n",
       "      <td>0.07864</td>\n",
       "      <td>0.0869</td>\n",
       "      <td>0.07017</td>\n",
       "      <td>0.1812</td>\n",
       "      <td>0.05667</td>\n",
       "      <td>...</td>\n",
       "      <td>24.99</td>\n",
       "      <td>23.41</td>\n",
       "      <td>158.80</td>\n",
       "      <td>1956.0</td>\n",
       "      <td>0.1238</td>\n",
       "      <td>0.1866</td>\n",
       "      <td>0.2416</td>\n",
       "      <td>0.1860</td>\n",
       "      <td>0.2750</td>\n",
       "      <td>0.08902</td>\n",
       "    </tr>\n",
       "    <tr>\n",
       "      <th>2</th>\n",
       "      <td>19.69</td>\n",
       "      <td>21.25</td>\n",
       "      <td>130.00</td>\n",
       "      <td>1203.0</td>\n",
       "      <td>0.10960</td>\n",
       "      <td>0.15990</td>\n",
       "      <td>0.1974</td>\n",
       "      <td>0.12790</td>\n",
       "      <td>0.2069</td>\n",
       "      <td>0.05999</td>\n",
       "      <td>...</td>\n",
       "      <td>23.57</td>\n",
       "      <td>25.53</td>\n",
       "      <td>152.50</td>\n",
       "      <td>1709.0</td>\n",
       "      <td>0.1444</td>\n",
       "      <td>0.4245</td>\n",
       "      <td>0.4504</td>\n",
       "      <td>0.2430</td>\n",
       "      <td>0.3613</td>\n",
       "      <td>0.08758</td>\n",
       "    </tr>\n",
       "    <tr>\n",
       "      <th>3</th>\n",
       "      <td>11.42</td>\n",
       "      <td>20.38</td>\n",
       "      <td>77.58</td>\n",
       "      <td>386.1</td>\n",
       "      <td>0.14250</td>\n",
       "      <td>0.28390</td>\n",
       "      <td>0.2414</td>\n",
       "      <td>0.10520</td>\n",
       "      <td>0.2597</td>\n",
       "      <td>0.09744</td>\n",
       "      <td>...</td>\n",
       "      <td>14.91</td>\n",
       "      <td>26.50</td>\n",
       "      <td>98.87</td>\n",
       "      <td>567.7</td>\n",
       "      <td>0.2098</td>\n",
       "      <td>0.8663</td>\n",
       "      <td>0.6869</td>\n",
       "      <td>0.2575</td>\n",
       "      <td>0.6638</td>\n",
       "      <td>0.17300</td>\n",
       "    </tr>\n",
       "    <tr>\n",
       "      <th>4</th>\n",
       "      <td>20.29</td>\n",
       "      <td>14.34</td>\n",
       "      <td>135.10</td>\n",
       "      <td>1297.0</td>\n",
       "      <td>0.10030</td>\n",
       "      <td>0.13280</td>\n",
       "      <td>0.1980</td>\n",
       "      <td>0.10430</td>\n",
       "      <td>0.1809</td>\n",
       "      <td>0.05883</td>\n",
       "      <td>...</td>\n",
       "      <td>22.54</td>\n",
       "      <td>16.67</td>\n",
       "      <td>152.20</td>\n",
       "      <td>1575.0</td>\n",
       "      <td>0.1374</td>\n",
       "      <td>0.2050</td>\n",
       "      <td>0.4000</td>\n",
       "      <td>0.1625</td>\n",
       "      <td>0.2364</td>\n",
       "      <td>0.07678</td>\n",
       "    </tr>\n",
       "  </tbody>\n",
       "</table>\n",
       "<p>5 rows × 30 columns</p>\n",
       "</div>"
      ],
      "text/plain": [
       "   mean radius  mean texture  mean perimeter  mean area  mean smoothness  \\\n",
       "0        17.99         10.38          122.80     1001.0          0.11840   \n",
       "1        20.57         17.77          132.90     1326.0          0.08474   \n",
       "2        19.69         21.25          130.00     1203.0          0.10960   \n",
       "3        11.42         20.38           77.58      386.1          0.14250   \n",
       "4        20.29         14.34          135.10     1297.0          0.10030   \n",
       "\n",
       "   mean compactness  mean concavity  mean concave points  mean symmetry  \\\n",
       "0           0.27760          0.3001              0.14710         0.2419   \n",
       "1           0.07864          0.0869              0.07017         0.1812   \n",
       "2           0.15990          0.1974              0.12790         0.2069   \n",
       "3           0.28390          0.2414              0.10520         0.2597   \n",
       "4           0.13280          0.1980              0.10430         0.1809   \n",
       "\n",
       "   mean fractal dimension  ...  worst radius  worst texture  worst perimeter  \\\n",
       "0                 0.07871  ...         25.38          17.33           184.60   \n",
       "1                 0.05667  ...         24.99          23.41           158.80   \n",
       "2                 0.05999  ...         23.57          25.53           152.50   \n",
       "3                 0.09744  ...         14.91          26.50            98.87   \n",
       "4                 0.05883  ...         22.54          16.67           152.20   \n",
       "\n",
       "   worst area  worst smoothness  worst compactness  worst concavity  \\\n",
       "0      2019.0            0.1622             0.6656           0.7119   \n",
       "1      1956.0            0.1238             0.1866           0.2416   \n",
       "2      1709.0            0.1444             0.4245           0.4504   \n",
       "3       567.7            0.2098             0.8663           0.6869   \n",
       "4      1575.0            0.1374             0.2050           0.4000   \n",
       "\n",
       "   worst concave points  worst symmetry  worst fractal dimension  \n",
       "0                0.2654          0.4601                  0.11890  \n",
       "1                0.1860          0.2750                  0.08902  \n",
       "2                0.2430          0.3613                  0.08758  \n",
       "3                0.2575          0.6638                  0.17300  \n",
       "4                0.1625          0.2364                  0.07678  \n",
       "\n",
       "[5 rows x 30 columns]"
      ]
     },
     "execution_count": 7,
     "metadata": {},
     "output_type": "execute_result"
    }
   ],
   "source": [
    "df=pd.DataFrame(cancer[\"data\"],columns=cancer[\"feature_names\"])\n",
    "df.head()"
   ]
  },
  {
   "cell_type": "markdown",
   "execution_count": null,
   "metadata": {
    "papermill": {
     "duration": 0.013273,
     "end_time": "2020-08-14T23:47:44.572775",
     "exception": false,
     "start_time": "2020-08-14T23:47:44.559502",
     "status": "completed"
    },
    "tags": []
   },
   "source": [
    "* In this dataset, there are 30 dimensions or variables, thus it is difficult to visualize all of them. We can utilize PCA to learn the two most important components of the data and visualize the data in this new two dimensional space. "
   ]
  },
  {
   "cell_type": "markdown",
   "execution_count": null,
   "metadata": {
    "papermill": {
     "duration": 0.013117,
     "end_time": "2020-08-14T23:47:44.599829",
     "exception": false,
     "start_time": "2020-08-14T23:47:44.586712",
     "status": "completed"
    },
    "tags": []
   },
   "source": [
    "* Before we use PCA in the data, we need to standartize the variables by using standart scaler of sklearn"
   ]
  },
  {
   "cell_type": "code",
   "execution_count": 8,
   "metadata": {
    "execution": {
     "iopub.execute_input": "2020-08-14T23:47:44.637953Z",
     "iopub.status.busy": "2020-08-14T23:47:44.636718Z",
     "iopub.status.idle": "2020-08-14T23:47:44.646275Z",
     "shell.execute_reply": "2020-08-14T23:47:44.646894Z"
    },
    "papermill": {
     "duration": 0.033652,
     "end_time": "2020-08-14T23:47:44.647077",
     "exception": false,
     "start_time": "2020-08-14T23:47:44.613425",
     "status": "completed"
    },
    "tags": []
   },
   "outputs": [],
   "source": [
    "from sklearn.preprocessing import StandardScaler\n",
    "scaler=StandardScaler()\n",
    "scaler.fit(df)\n",
    "scaled_data=scaler.transform(df)"
   ]
  },
  {
   "cell_type": "code",
   "execution_count": 9,
   "metadata": {
    "execution": {
     "iopub.execute_input": "2020-08-14T23:47:44.682978Z",
     "iopub.status.busy": "2020-08-14T23:47:44.682072Z",
     "iopub.status.idle": "2020-08-14T23:47:44.686298Z",
     "shell.execute_reply": "2020-08-14T23:47:44.685619Z"
    },
    "papermill": {
     "duration": 0.02551,
     "end_time": "2020-08-14T23:47:44.686431",
     "exception": false,
     "start_time": "2020-08-14T23:47:44.660921",
     "status": "completed"
    },
    "tags": []
   },
   "outputs": [
    {
     "data": {
      "text/plain": [
       "array([[ 1.09706398, -2.07333501,  1.26993369, ...,  2.29607613,\n",
       "         2.75062224,  1.93701461],\n",
       "       [ 1.82982061, -0.35363241,  1.68595471, ...,  1.0870843 ,\n",
       "        -0.24388967,  0.28118999],\n",
       "       [ 1.57988811,  0.45618695,  1.56650313, ...,  1.95500035,\n",
       "         1.152255  ,  0.20139121],\n",
       "       ...,\n",
       "       [ 0.70228425,  2.0455738 ,  0.67267578, ...,  0.41406869,\n",
       "        -1.10454895, -0.31840916],\n",
       "       [ 1.83834103,  2.33645719,  1.98252415, ...,  2.28998549,\n",
       "         1.91908301,  2.21963528],\n",
       "       [-1.80840125,  1.22179204, -1.81438851, ..., -1.74506282,\n",
       "        -0.04813821, -0.75120669]])"
      ]
     },
     "execution_count": 9,
     "metadata": {},
     "output_type": "execute_result"
    }
   ],
   "source": [
    "scaled_data "
   ]
  },
  {
   "cell_type": "markdown",
   "execution_count": null,
   "metadata": {
    "papermill": {
     "duration": 0.013597,
     "end_time": "2020-08-14T23:47:44.714140",
     "exception": false,
     "start_time": "2020-08-14T23:47:44.700543",
     "status": "completed"
    },
    "tags": []
   },
   "source": [
    "* Standart Scaler transformed our data into a numpy array and standartized all of the variables of the data "
   ]
  },
  {
   "cell_type": "code",
   "execution_count": 10,
   "metadata": {
    "execution": {
     "iopub.execute_input": "2020-08-14T23:47:44.748546Z",
     "iopub.status.busy": "2020-08-14T23:47:44.747692Z",
     "iopub.status.idle": "2020-08-14T23:47:44.944087Z",
     "shell.execute_reply": "2020-08-14T23:47:44.943229Z"
    },
    "papermill": {
     "duration": 0.216092,
     "end_time": "2020-08-14T23:47:44.944233",
     "exception": false,
     "start_time": "2020-08-14T23:47:44.728141",
     "status": "completed"
    },
    "tags": []
   },
   "outputs": [],
   "source": [
    "from sklearn.decomposition import PCA\n",
    "pca=PCA(n_components=2) # we make an instance of PCA and decide how many components we want to have\n"
   ]
  },
  {
   "cell_type": "code",
   "execution_count": 11,
   "metadata": {
    "execution": {
     "iopub.execute_input": "2020-08-14T23:47:44.978562Z",
     "iopub.status.busy": "2020-08-14T23:47:44.977691Z",
     "iopub.status.idle": "2020-08-14T23:47:45.091108Z",
     "shell.execute_reply": "2020-08-14T23:47:45.090328Z"
    },
    "papermill": {
     "duration": 0.132839,
     "end_time": "2020-08-14T23:47:45.091288",
     "exception": false,
     "start_time": "2020-08-14T23:47:44.958449",
     "status": "completed"
    },
    "tags": []
   },
   "outputs": [
    {
     "data": {
      "text/plain": [
       "PCA(n_components=2)"
      ]
     },
     "execution_count": 11,
     "metadata": {},
     "output_type": "execute_result"
    }
   ],
   "source": [
    "pca.fit(scaled_data) # We make PCA fit to our scaled data"
   ]
  },
  {
   "cell_type": "code",
   "execution_count": 12,
   "metadata": {
    "execution": {
     "iopub.execute_input": "2020-08-14T23:47:45.129968Z",
     "iopub.status.busy": "2020-08-14T23:47:45.128992Z",
     "iopub.status.idle": "2020-08-14T23:47:45.133443Z",
     "shell.execute_reply": "2020-08-14T23:47:45.132561Z"
    },
    "papermill": {
     "duration": 0.02504,
     "end_time": "2020-08-14T23:47:45.133611",
     "exception": false,
     "start_time": "2020-08-14T23:47:45.108571",
     "status": "completed"
    },
    "tags": []
   },
   "outputs": [],
   "source": [
    "transformed_data=pca.transform(scaled_data)"
   ]
  },
  {
   "cell_type": "code",
   "execution_count": 13,
   "metadata": {
    "execution": {
     "iopub.execute_input": "2020-08-14T23:47:45.169450Z",
     "iopub.status.busy": "2020-08-14T23:47:45.168319Z",
     "iopub.status.idle": "2020-08-14T23:47:45.173295Z",
     "shell.execute_reply": "2020-08-14T23:47:45.172635Z"
    },
    "papermill": {
     "duration": 0.025319,
     "end_time": "2020-08-14T23:47:45.173436",
     "exception": false,
     "start_time": "2020-08-14T23:47:45.148117",
     "status": "completed"
    },
    "tags": []
   },
   "outputs": [
    {
     "data": {
      "text/plain": [
       "(569, 30)"
      ]
     },
     "execution_count": 13,
     "metadata": {},
     "output_type": "execute_result"
    }
   ],
   "source": [
    "scaled_data.shape\n",
    "#This is the original shape of the data with 569 rows and 30 columns"
   ]
  },
  {
   "cell_type": "code",
   "execution_count": 14,
   "metadata": {
    "execution": {
     "iopub.execute_input": "2020-08-14T23:47:45.209800Z",
     "iopub.status.busy": "2020-08-14T23:47:45.208696Z",
     "iopub.status.idle": "2020-08-14T23:47:45.213135Z",
     "shell.execute_reply": "2020-08-14T23:47:45.213886Z"
    },
    "papermill": {
     "duration": 0.025699,
     "end_time": "2020-08-14T23:47:45.214053",
     "exception": false,
     "start_time": "2020-08-14T23:47:45.188354",
     "status": "completed"
    },
    "tags": []
   },
   "outputs": [
    {
     "data": {
      "text/plain": [
       "(569, 2)"
      ]
     },
     "execution_count": 14,
     "metadata": {},
     "output_type": "execute_result"
    }
   ],
   "source": [
    "transformed_data.shape\n",
    "#Here we see 569 rows but 2 columns or components after PCA implementation"
   ]
  },
  {
   "cell_type": "code",
   "execution_count": 15,
   "metadata": {
    "execution": {
     "iopub.execute_input": "2020-08-14T23:47:45.250114Z",
     "iopub.status.busy": "2020-08-14T23:47:45.248972Z",
     "iopub.status.idle": "2020-08-14T23:47:45.254064Z",
     "shell.execute_reply": "2020-08-14T23:47:45.253425Z"
    },
    "papermill": {
     "duration": 0.025523,
     "end_time": "2020-08-14T23:47:45.254208",
     "exception": false,
     "start_time": "2020-08-14T23:47:45.228685",
     "status": "completed"
    },
    "tags": []
   },
   "outputs": [
    {
     "data": {
      "text/plain": [
       "array([[ 9.19283683,  1.94858307],\n",
       "       [ 2.3878018 , -3.76817174],\n",
       "       [ 5.73389628, -1.0751738 ],\n",
       "       ...,\n",
       "       [ 1.25617928, -1.90229671],\n",
       "       [10.37479406,  1.67201011],\n",
       "       [-5.4752433 , -0.67063679]])"
      ]
     },
     "execution_count": 15,
     "metadata": {},
     "output_type": "execute_result"
    }
   ],
   "source": [
    "transformed_data"
   ]
  },
  {
   "cell_type": "markdown",
   "execution_count": null,
   "metadata": {
    "papermill": {
     "duration": 0.014636,
     "end_time": "2020-08-14T23:47:45.283691",
     "exception": false,
     "start_time": "2020-08-14T23:47:45.269055",
     "status": "completed"
    },
    "tags": []
   },
   "source": [
    "* The data has been reduced to the two most important components via PCA that we can easily plot out."
   ]
  },
  {
   "cell_type": "code",
   "execution_count": 16,
   "metadata": {
    "execution": {
     "iopub.execute_input": "2020-08-14T23:47:45.327098Z",
     "iopub.status.busy": "2020-08-14T23:47:45.320159Z",
     "iopub.status.idle": "2020-08-14T23:47:45.567312Z",
     "shell.execute_reply": "2020-08-14T23:47:45.567950Z"
    },
    "papermill": {
     "duration": 0.269731,
     "end_time": "2020-08-14T23:47:45.568149",
     "exception": false,
     "start_time": "2020-08-14T23:47:45.298418",
     "status": "completed"
    },
    "tags": []
   },
   "outputs": [
    {
     "data": {
      "text/plain": [
       "Text(0, 0.5, 'The Second Principal Component')"
      ]
     },
     "execution_count": 16,
     "metadata": {},
     "output_type": "execute_result"
    },
    {
     "data": {
      "image/png": "[encoded data removed]",
      "text/plain": [
       "<Figure size 1080x720 with 1 Axes>"
      ]
     },
     "metadata": {
      "needs_background": "light"
     },
     "output_type": "display_data"
    }
   ],
   "source": [
    "plt.figure(figsize=(15,10))\n",
    "plt.scatter(transformed_data[:,0],transformed_data[:,1])\n",
    "plt.xlabel(\"The First Principal Component\")\n",
    "plt.ylabel(\"The Second Principal Component\")\n",
    "#Here we plot all the rows of columns 1 and column 2 in a scatterplot."
   ]
  },
  {
   "cell_type": "markdown",
   "execution_count": null,
   "metadata": {
    "papermill": {
     "duration": 0.01571,
     "end_time": "2020-08-14T23:47:45.599811",
     "exception": false,
     "start_time": "2020-08-14T23:47:45.584101",
     "status": "completed"
    },
    "tags": []
   },
   "source": [
    "* This plot does not explain much, we can add some paramaters to the same plot in order to show the positions of the components according the target variable of the data"
   ]
  },
  {
   "cell_type": "code",
   "execution_count": 17,
   "metadata": {
    "execution": {
     "iopub.execute_input": "2020-08-14T23:47:45.652021Z",
     "iopub.status.busy": "2020-08-14T23:47:45.644272Z",
     "iopub.status.idle": "2020-08-14T23:47:45.931379Z",
     "shell.execute_reply": "2020-08-14T23:47:45.931990Z"
    },
    "papermill": {
     "duration": 0.316838,
     "end_time": "2020-08-14T23:47:45.932156",
     "exception": false,
     "start_time": "2020-08-14T23:47:45.615318",
     "status": "completed"
    },
    "tags": []
   },
   "outputs": [
    {
     "data": {
      "text/plain": [
       "Text(0, 0.5, 'The Second Principal Component')"
      ]
     },
     "execution_count": 17,
     "metadata": {},
     "output_type": "execute_result"
    },
    {
     "data": {
      "image/png": "[encoded data removed]",
      "text/plain": [
       "<Figure size 1080x720 with 1 Axes>"
      ]
     },
     "metadata": {
      "needs_background": "light"
     },
     "output_type": "display_data"
    }
   ],
   "source": [
    "plt.figure(figsize=(15,10))\n",
    "plt.scatter(transformed_data[:,0],transformed_data[:,1],c=cancer[\"target\"],cmap=\"plasma\")\n",
    "plt.xlabel(\"The First Principal Component\")\n",
    "plt.ylabel(\"The Second Principal Component\")\n",
    "#Here we plot all the rows of columns 1 and column 2 in a scatterplot."
   ]
  },
  {
   "cell_type": "raw",
   "execution_count": null,
   "metadata": {
    "papermill": {
     "duration": 0.01612,
     "end_time": "2020-08-14T23:47:45.965113",
     "exception": false,
     "start_time": "2020-08-14T23:47:45.948993",
     "status": "completed"
    },
    "tags": []
   },
   "source": [
    "* This plot shows the power of PCA because based on just two principal components, we can see very clear separation of the target variable, which shows how benign and malignant tumors look like.\n",
    "\n",
    "* We utilize PCA as compression algorithm to get a clear information about the data instead of analyzing 30 columns or variables as it is case in this dataset.\n",
    "\n",
    "* However the components that has been decided by PCA do not correspond to a specific column or variable in the dataset.These two components are the combinations of the original variables of the data."
   ]
  },
  {
   "cell_type": "code",
   "execution_count": 18,
   "metadata": {
    "execution": {
     "iopub.execute_input": "2020-08-14T23:47:46.005758Z",
     "iopub.status.busy": "2020-08-14T23:47:46.004618Z",
     "iopub.status.idle": "2020-08-14T23:47:46.009041Z",
     "shell.execute_reply": "2020-08-14T23:47:46.008297Z"
    },
    "papermill": {
     "duration": 0.027555,
     "end_time": "2020-08-14T23:47:46.009175",
     "exception": false,
     "start_time": "2020-08-14T23:47:45.981620",
     "status": "completed"
    },
    "tags": []
   },
   "outputs": [
    {
     "data": {
      "text/plain": [
       "array([[ 0.21890244,  0.10372458,  0.22753729,  0.22099499,  0.14258969,\n",
       "         0.23928535,  0.25840048,  0.26085376,  0.13816696,  0.06436335,\n",
       "         0.20597878,  0.01742803,  0.21132592,  0.20286964,  0.01453145,\n",
       "         0.17039345,  0.15358979,  0.1834174 ,  0.04249842,  0.10256832,\n",
       "         0.22799663,  0.10446933,  0.23663968,  0.22487053,  0.12795256,\n",
       "         0.21009588,  0.22876753,  0.25088597,  0.12290456,  0.13178394],\n",
       "       [-0.23385713, -0.05970609, -0.21518136, -0.23107671,  0.18611302,\n",
       "         0.15189161,  0.06016536, -0.0347675 ,  0.19034877,  0.36657547,\n",
       "        -0.10555215,  0.08997968, -0.08945723, -0.15229263,  0.20443045,\n",
       "         0.2327159 ,  0.19720728,  0.13032156,  0.183848  ,  0.28009203,\n",
       "        -0.21986638, -0.0454673 , -0.19987843, -0.21935186,  0.17230435,\n",
       "         0.14359317,  0.09796411, -0.00825724,  0.14188335,  0.27533947]])"
      ]
     },
     "execution_count": 18,
     "metadata": {},
     "output_type": "execute_result"
    }
   ],
   "source": [
    "pca.components_"
   ]
  },
  {
   "cell_type": "markdown",
   "execution_count": null,
   "metadata": {
    "papermill": {
     "duration": 0.017616,
     "end_time": "2020-08-14T23:47:46.043777",
     "exception": false,
     "start_time": "2020-08-14T23:47:46.026161",
     "status": "completed"
    },
    "tags": []
   },
   "source": [
    "* Each row represents actual componnents and each column relates back original features.\n",
    "\n",
    "* We can see the relationship better via a heatmap.\n",
    "\n",
    "* But first we need to transfor it into a dataframe in order to use the visualization libraries."
   ]
  },
  {
   "cell_type": "code",
   "execution_count": 19,
   "metadata": {
    "execution": {
     "iopub.execute_input": "2020-08-14T23:47:46.105594Z",
     "iopub.status.busy": "2020-08-14T23:47:46.104475Z",
     "iopub.status.idle": "2020-08-14T23:47:46.109989Z",
     "shell.execute_reply": "2020-08-14T23:47:46.109391Z"
    },
    "papermill": {
     "duration": 0.049095,
     "end_time": "2020-08-14T23:47:46.110125",
     "exception": false,
     "start_time": "2020-08-14T23:47:46.061030",
     "status": "completed"
    },
    "tags": []
   },
   "outputs": [
    {
     "data": {
      "text/html": [
       "<div>\n",
       "<style scoped>\n",
       "    .dataframe tbody tr th:only-of-type {\n",
       "        vertical-align: middle;\n",
       "    }\n",
       "\n",
       "    .dataframe tbody tr th {\n",
       "        vertical-align: top;\n",
       "    }\n",
       "\n",
       "    .dataframe thead th {\n",
       "        text-align: right;\n",
       "    }\n",
       "</style>\n",
       "<table border=\"1\" class=\"dataframe\">\n",
       "  <thead>\n",
       "    <tr style=\"text-align: right;\">\n",
       "      <th></th>\n",
       "      <th>mean radius</th>\n",
       "      <th>mean texture</th>\n",
       "      <th>mean perimeter</th>\n",
       "      <th>mean area</th>\n",
       "      <th>mean smoothness</th>\n",
       "      <th>mean compactness</th>\n",
       "      <th>mean concavity</th>\n",
       "      <th>mean concave points</th>\n",
       "      <th>mean symmetry</th>\n",
       "      <th>mean fractal dimension</th>\n",
       "      <th>...</th>\n",
       "      <th>worst radius</th>\n",
       "      <th>worst texture</th>\n",
       "      <th>worst perimeter</th>\n",
       "      <th>worst area</th>\n",
       "      <th>worst smoothness</th>\n",
       "      <th>worst compactness</th>\n",
       "      <th>worst concavity</th>\n",
       "      <th>worst concave points</th>\n",
       "      <th>worst symmetry</th>\n",
       "      <th>worst fractal dimension</th>\n",
       "    </tr>\n",
       "  </thead>\n",
       "  <tbody>\n",
       "    <tr>\n",
       "      <th>0</th>\n",
       "      <td>0.218902</td>\n",
       "      <td>0.103725</td>\n",
       "      <td>0.227537</td>\n",
       "      <td>0.220995</td>\n",
       "      <td>0.142590</td>\n",
       "      <td>0.239285</td>\n",
       "      <td>0.258400</td>\n",
       "      <td>0.260854</td>\n",
       "      <td>0.138167</td>\n",
       "      <td>0.064363</td>\n",
       "      <td>...</td>\n",
       "      <td>0.227997</td>\n",
       "      <td>0.104469</td>\n",
       "      <td>0.236640</td>\n",
       "      <td>0.224871</td>\n",
       "      <td>0.127953</td>\n",
       "      <td>0.210096</td>\n",
       "      <td>0.228768</td>\n",
       "      <td>0.250886</td>\n",
       "      <td>0.122905</td>\n",
       "      <td>0.131784</td>\n",
       "    </tr>\n",
       "    <tr>\n",
       "      <th>1</th>\n",
       "      <td>-0.233857</td>\n",
       "      <td>-0.059706</td>\n",
       "      <td>-0.215181</td>\n",
       "      <td>-0.231077</td>\n",
       "      <td>0.186113</td>\n",
       "      <td>0.151892</td>\n",
       "      <td>0.060165</td>\n",
       "      <td>-0.034768</td>\n",
       "      <td>0.190349</td>\n",
       "      <td>0.366575</td>\n",
       "      <td>...</td>\n",
       "      <td>-0.219866</td>\n",
       "      <td>-0.045467</td>\n",
       "      <td>-0.199878</td>\n",
       "      <td>-0.219352</td>\n",
       "      <td>0.172304</td>\n",
       "      <td>0.143593</td>\n",
       "      <td>0.097964</td>\n",
       "      <td>-0.008257</td>\n",
       "      <td>0.141883</td>\n",
       "      <td>0.275339</td>\n",
       "    </tr>\n",
       "  </tbody>\n",
       "</table>\n",
       "<p>2 rows × 30 columns</p>\n",
       "</div>"
      ],
      "text/plain": [
       "   mean radius  mean texture  mean perimeter  mean area  mean smoothness  \\\n",
       "0     0.218902      0.103725        0.227537   0.220995         0.142590   \n",
       "1    -0.233857     -0.059706       -0.215181  -0.231077         0.186113   \n",
       "\n",
       "   mean compactness  mean concavity  mean concave points  mean symmetry  \\\n",
       "0          0.239285        0.258400             0.260854       0.138167   \n",
       "1          0.151892        0.060165            -0.034768       0.190349   \n",
       "\n",
       "   mean fractal dimension  ...  worst radius  worst texture  worst perimeter  \\\n",
       "0                0.064363  ...      0.227997       0.104469         0.236640   \n",
       "1                0.366575  ...     -0.219866      -0.045467        -0.199878   \n",
       "\n",
       "   worst area  worst smoothness  worst compactness  worst concavity  \\\n",
       "0    0.224871          0.127953           0.210096         0.228768   \n",
       "1   -0.219352          0.172304           0.143593         0.097964   \n",
       "\n",
       "   worst concave points  worst symmetry  worst fractal dimension  \n",
       "0              0.250886        0.122905                 0.131784  \n",
       "1             -0.008257        0.141883                 0.275339  \n",
       "\n",
       "[2 rows x 30 columns]"
      ]
     },
     "execution_count": 19,
     "metadata": {},
     "output_type": "execute_result"
    }
   ],
   "source": [
    "df_comp=pd.DataFrame(pca.components_,columns=cancer[\"feature_names\"])\n",
    "df_comp"
   ]
  },
  {
   "cell_type": "code",
   "execution_count": 20,
   "metadata": {
    "execution": {
     "iopub.execute_input": "2020-08-14T23:47:46.244824Z",
     "iopub.status.busy": "2020-08-14T23:47:46.241355Z",
     "iopub.status.idle": "2020-08-14T23:47:46.661744Z",
     "shell.execute_reply": "2020-08-14T23:47:46.660870Z"
    },
    "papermill": {
     "duration": 0.534469,
     "end_time": "2020-08-14T23:47:46.661897",
     "exception": false,
     "start_time": "2020-08-14T23:47:46.127428",
     "status": "completed"
    },
    "tags": []
   },
   "outputs": [
    {
     "data": {
      "text/plain": [
       "<matplotlib.axes._subplots.AxesSubplot at 0x7f782770ff90>"
      ]
     },
     "execution_count": 20,
     "metadata": {},
     "output_type": "execute_result"
    },
    {
     "data": {
      "image/png": "[encoded data removed]",
      "text/plain": [
       "<Figure size 1080x720 with 2 Axes>"
      ]
     },
     "metadata": {
      "needs_background": "light"
     },
     "output_type": "display_data"
    }
   ],
   "source": [
    "plt.figure(figsize=(15,10))\n",
    "sns.heatmap(df_comp,cmap=\"magma\")"
   ]
  },
  {
   "cell_type": "markdown",
   "execution_count": null,
   "metadata": {
    "papermill": {
     "duration": 0.0178,
     "end_time": "2020-08-14T23:47:46.697941",
     "exception": false,
     "start_time": "2020-08-14T23:47:46.680141",
     "status": "completed"
    },
    "tags": []
   },
   "source": [
    "* In this heatmap above, we see the relation between the principal components and actual features\n",
    "\n",
    "* The ligh color in the heatmap shows strong correlation between the principal components and actual features while dark colors show the opposite or negative correlation.\n",
    "\n",
    "* Actually the principal components are the combinations of all these features of the data."
   ]
  },
  {
   "cell_type": "markdown",
   "execution_count": null,
   "metadata": {
    "papermill": {
     "duration": 0.017545,
     "end_time": "2020-08-14T23:47:46.733480",
     "exception": false,
     "start_time": "2020-08-14T23:47:46.715935",
     "status": "completed"
    },
    "tags": []
   },
   "source": [
    "* After we get the principal components of the data, we can feed them into a machine learning algorithm because we have clear and separated components of the data instead of the complex variables.\n",
    "\n",
    "* For this data we do a logistic regression on tranformed_data instead of doing regression with the entire data.\n",
    "\n",
    "* Support vector machines can also be a good alternative for this data."
   ]
  },
  {
   "cell_type": "code",
   "execution_count": 21,
   "metadata": {
    "execution": {
     "iopub.execute_input": "2020-08-14T23:47:46.776640Z",
     "iopub.status.busy": "2020-08-14T23:47:46.775533Z",
     "iopub.status.idle": "2020-08-14T23:47:46.779077Z",
     "shell.execute_reply": "2020-08-14T23:47:46.778291Z"
    },
    "papermill": {
     "duration": 0.027581,
     "end_time": "2020-08-14T23:47:46.779209",
     "exception": false,
     "start_time": "2020-08-14T23:47:46.751628",
     "status": "completed"
    },
    "tags": []
   },
   "outputs": [],
   "source": [
    "X=transformed_data\n",
    "y=cancer[\"target\"]"
   ]
  },
  {
   "cell_type": "code",
   "execution_count": 22,
   "metadata": {
    "execution": {
     "iopub.execute_input": "2020-08-14T23:47:46.823057Z",
     "iopub.status.busy": "2020-08-14T23:47:46.822294Z",
     "iopub.status.idle": "2020-08-14T23:47:46.825850Z",
     "shell.execute_reply": "2020-08-14T23:47:46.825075Z"
    },
    "papermill": {
     "duration": 0.028482,
     "end_time": "2020-08-14T23:47:46.826004",
     "exception": false,
     "start_time": "2020-08-14T23:47:46.797522",
     "status": "completed"
    },
    "tags": []
   },
   "outputs": [],
   "source": [
    "from sklearn.model_selection import train_test_split\n",
    "X_train,X_test,y_train,y_test=train_test_split(X,y,test_size=0.3,random_state=101)"
   ]
  },
  {
   "cell_type": "code",
   "execution_count": 23,
   "metadata": {
    "execution": {
     "iopub.execute_input": "2020-08-14T23:47:46.879642Z",
     "iopub.status.busy": "2020-08-14T23:47:46.871104Z",
     "iopub.status.idle": "2020-08-14T23:47:46.884117Z",
     "shell.execute_reply": "2020-08-14T23:47:46.884711Z"
    },
    "papermill": {
     "duration": 0.040494,
     "end_time": "2020-08-14T23:47:46.884888",
     "exception": false,
     "start_time": "2020-08-14T23:47:46.844394",
     "status": "completed"
    },
    "tags": []
   },
   "outputs": [
    {
     "data": {
      "text/plain": [
       "LogisticRegression()"
      ]
     },
     "execution_count": 23,
     "metadata": {},
     "output_type": "execute_result"
    }
   ],
   "source": [
    "from sklearn.linear_model import LogisticRegression\n",
    "log_regression=LogisticRegression()\n",
    "log_regression.fit(X_train,y_train)"
   ]
  },
  {
   "cell_type": "code",
   "execution_count": 24,
   "metadata": {
    "execution": {
     "iopub.execute_input": "2020-08-14T23:47:46.930209Z",
     "iopub.status.busy": "2020-08-14T23:47:46.929021Z",
     "iopub.status.idle": "2020-08-14T23:47:46.934636Z",
     "shell.execute_reply": "2020-08-14T23:47:46.933832Z"
    },
    "papermill": {
     "duration": 0.031558,
     "end_time": "2020-08-14T23:47:46.934781",
     "exception": false,
     "start_time": "2020-08-14T23:47:46.903223",
     "status": "completed"
    },
    "tags": []
   },
   "outputs": [
    {
     "data": {
      "text/plain": [
       "array([1, 1, 1, 0, 1, 1, 1, 0, 1, 1, 0, 1, 1, 1, 0, 1, 1, 1, 0, 0, 1, 1,\n",
       "       1, 1, 0, 1, 0, 1, 0, 0, 1, 0, 1, 0, 1, 1, 0, 0, 0, 0, 0, 1, 1, 1,\n",
       "       1, 1, 0, 1, 0, 1, 0, 1, 1, 0, 1, 1, 0, 0, 1, 1, 0, 0, 1, 1, 0, 1,\n",
       "       1, 0, 0, 1, 0, 1, 1, 1, 0, 0, 1, 0, 0, 1, 1, 1, 0, 1, 1, 1, 0, 1,\n",
       "       0, 0, 1, 0, 0, 1, 1, 1, 1, 0, 0, 0, 0, 1, 1, 1, 1, 1, 1, 1, 1, 1,\n",
       "       1, 1, 1, 0, 1, 1, 1, 1, 0, 0, 0, 0, 0, 1, 0, 1, 1, 1, 1, 1, 0, 0,\n",
       "       0, 1, 1, 1, 0, 0, 0, 1, 0, 1, 0, 1, 1, 1, 0, 1, 1, 1, 1, 0, 1, 0,\n",
       "       1, 0, 1, 0, 1, 1, 0, 1, 1, 0, 0, 0, 1, 1, 1, 0, 1])"
      ]
     },
     "execution_count": 24,
     "metadata": {},
     "output_type": "execute_result"
    }
   ],
   "source": [
    "#Now our model is ready to predict the test data\n",
    "predictions=log_regression.predict(X_test)\n",
    "predictions"
   ]
  },
  {
   "cell_type": "code",
   "execution_count": 25,
   "metadata": {
    "execution": {
     "iopub.execute_input": "2020-08-14T23:47:46.980696Z",
     "iopub.status.busy": "2020-08-14T23:47:46.979652Z",
     "iopub.status.idle": "2020-08-14T23:47:46.988622Z",
     "shell.execute_reply": "2020-08-14T23:47:46.987750Z"
    },
    "papermill": {
     "duration": 0.0353,
     "end_time": "2020-08-14T23:47:46.988789",
     "exception": false,
     "start_time": "2020-08-14T23:47:46.953489",
     "status": "completed"
    },
    "tags": []
   },
   "outputs": [
    {
     "name": "stdout",
     "output_type": "stream",
     "text": [
      "              precision    recall  f1-score   support\n",
      "\n",
      "           0       0.93      0.95      0.94        66\n",
      "           1       0.97      0.95      0.96       105\n",
      "\n",
      "    accuracy                           0.95       171\n",
      "   macro avg       0.95      0.95      0.95       171\n",
      "weighted avg       0.95      0.95      0.95       171\n",
      "\n"
     ]
    }
   ],
   "source": [
    "#Now it is time to evaluate how good the predictions are\n",
    "from sklearn.metrics import classification_report\n",
    "print(classification_report(y_test,predictions))\n",
    "#The precision and accuracy precentages are over %90, it is very good"
   ]
  },
  {
   "cell_type": "markdown",
   "execution_count": null,
   "metadata": {
    "papermill": {
     "duration": 0.018559,
     "end_time": "2020-08-14T23:47:47.029951",
     "exception": false,
     "start_time": "2020-08-14T23:47:47.011392",
     "status": "completed"
    },
    "tags": []
   },
   "source": [
    "* It is obvious that we can get pretty good prediction by using just the two principal components of the data instead of using all of the dataset.\n",
    "\n",
    "* PCA can be very useful tool big data with many features."
   ]
  },
  {
   "cell_type": "markdown",
   "execution_count": null,
   "metadata": {
    "papermill": {
     "duration": 0.018365,
     "end_time": "2020-08-14T23:47:47.066991",
     "exception": false,
     "start_time": "2020-08-14T23:47:47.048626",
     "status": "completed"
    },
    "tags": []
   },
   "source": [
    "* Now we will also use Support Vector Machines Algorithm with the PCA"
   ]
  },
  {
   "cell_type": "markdown",
   "execution_count": null,
   "metadata": {
    "papermill": {
     "duration": 0.018415,
     "end_time": "2020-08-14T23:47:47.104360",
     "exception": false,
     "start_time": "2020-08-14T23:47:47.085945",
     "status": "completed"
    },
    "tags": []
   },
   "source": [
    "* Because we have already siplitted data in the previous algorithm, we just skip this stage"
   ]
  },
  {
   "cell_type": "code",
   "execution_count": 26,
   "metadata": {
    "execution": {
     "iopub.execute_input": "2020-08-14T23:47:47.149025Z",
     "iopub.status.busy": "2020-08-14T23:47:47.148234Z",
     "iopub.status.idle": "2020-08-14T23:47:47.155596Z",
     "shell.execute_reply": "2020-08-14T23:47:47.154843Z"
    },
    "papermill": {
     "duration": 0.032655,
     "end_time": "2020-08-14T23:47:47.155730",
     "exception": false,
     "start_time": "2020-08-14T23:47:47.123075",
     "status": "completed"
    },
    "tags": []
   },
   "outputs": [
    {
     "data": {
      "text/plain": [
       "SVC()"
      ]
     },
     "execution_count": 26,
     "metadata": {},
     "output_type": "execute_result"
    }
   ],
   "source": [
    "from sklearn.svm import SVC\n",
    "svm_model=SVC()\n",
    "svm_model.fit(X_train,y_train)"
   ]
  },
  {
   "cell_type": "code",
   "execution_count": 27,
   "metadata": {
    "execution": {
     "iopub.execute_input": "2020-08-14T23:47:47.201203Z",
     "iopub.status.busy": "2020-08-14T23:47:47.200044Z",
     "iopub.status.idle": "2020-08-14T23:47:47.207441Z",
     "shell.execute_reply": "2020-08-14T23:47:47.206652Z"
    },
    "papermill": {
     "duration": 0.03252,
     "end_time": "2020-08-14T23:47:47.207576",
     "exception": false,
     "start_time": "2020-08-14T23:47:47.175056",
     "status": "completed"
    },
    "tags": []
   },
   "outputs": [
    {
     "data": {
      "text/plain": [
       "array([1, 1, 1, 0, 1, 1, 1, 0, 1, 1, 0, 1, 1, 1, 0, 1, 1, 1, 0, 1, 1, 1,\n",
       "       1, 1, 0, 1, 0, 1, 0, 0, 1, 0, 1, 0, 1, 1, 0, 1, 0, 0, 0, 1, 1, 1,\n",
       "       1, 1, 0, 1, 0, 1, 0, 1, 1, 0, 1, 1, 0, 0, 1, 1, 0, 1, 1, 1, 0, 1,\n",
       "       1, 0, 0, 1, 0, 1, 1, 1, 0, 0, 1, 0, 0, 1, 1, 1, 0, 1, 1, 1, 0, 1,\n",
       "       0, 1, 1, 1, 0, 1, 1, 1, 1, 0, 0, 0, 0, 1, 1, 1, 1, 1, 0, 1, 1, 1,\n",
       "       1, 1, 1, 0, 1, 1, 1, 1, 0, 0, 0, 0, 0, 1, 0, 1, 1, 1, 1, 1, 0, 0,\n",
       "       0, 1, 1, 1, 0, 0, 0, 1, 0, 1, 0, 1, 1, 1, 1, 1, 1, 1, 1, 0, 1, 0,\n",
       "       1, 0, 1, 0, 1, 1, 1, 1, 1, 0, 0, 0, 1, 1, 1, 1, 1])"
      ]
     },
     "execution_count": 27,
     "metadata": {},
     "output_type": "execute_result"
    }
   ],
   "source": [
    "predictions=svm_model.predict(X_test)\n",
    "predictions"
   ]
  },
  {
   "cell_type": "code",
   "execution_count": 28,
   "metadata": {
    "execution": {
     "iopub.execute_input": "2020-08-14T23:47:47.255098Z",
     "iopub.status.busy": "2020-08-14T23:47:47.254162Z",
     "iopub.status.idle": "2020-08-14T23:47:47.266324Z",
     "shell.execute_reply": "2020-08-14T23:47:47.265434Z"
    },
    "papermill": {
     "duration": 0.039664,
     "end_time": "2020-08-14T23:47:47.266477",
     "exception": false,
     "start_time": "2020-08-14T23:47:47.226813",
     "status": "completed"
    },
    "tags": []
   },
   "outputs": [
    {
     "name": "stdout",
     "output_type": "stream",
     "text": [
      "              precision    recall  f1-score   support\n",
      "\n",
      "           0       0.92      0.85      0.88        66\n",
      "           1       0.91      0.95      0.93       105\n",
      "\n",
      "    accuracy                           0.91       171\n",
      "   macro avg       0.91      0.90      0.91       171\n",
      "weighted avg       0.91      0.91      0.91       171\n",
      "\n"
     ]
    }
   ],
   "source": [
    "from sklearn.metrics import classification_report,confusion_matrix\n",
    "print(classification_report(y_test,predictions))\n",
    "#here we get the classification report to learn how accurate our model is"
   ]
  },
  {
   "cell_type": "markdown",
   "execution_count": null,
   "metadata": {
    "papermill": {
     "duration": 0.020353,
     "end_time": "2020-08-14T23:47:47.308832",
     "exception": false,
     "start_time": "2020-08-14T23:47:47.288479",
     "status": "completed"
    },
    "tags": []
   },
   "source": [
    "* The precision and accuracy precentages are over %90, it is very good although it is not as good as logistic regression"
   ]
  },
  {
   "cell_type": "markdown",
   "execution_count": null,
   "metadata": {
    "papermill": {
     "duration": 0.024141,
     "end_time": "2020-08-14T23:47:47.355527",
     "exception": false,
     "start_time": "2020-08-14T23:47:47.331386",
     "status": "completed"
    },
    "tags": []
   },
   "source": [
    "It is obvious that we can get pretty good prediction by using just the two principal components of the data instead of using all of the dataset."
   ]
  }
 ],
 "metadata": {
  "kernelspec": {
   "display_name": "Python 3",
   "language": "python",
   "name": "python3"
  },
  "language_info": {
   "codemirror_mode": {
    "name": "ipython",
    "version": 3
   },
   "file_extension": ".py",
   "mimetype": "text/x-python",
   "name": "python",
   "nbconvert_exporter": "python",
   "pygments_lexer": "ipython3",
   "version": "3.7.6"
  },
  "papermill": {
   "duration": 9.699103,
   "end_time": "2020-08-14T23:47:47.492451",
   "environment_variables": {},
   "exception": null,
   "input_path": "__notebook__.ipynb",
   "output_path": "__notebook__.ipynb",
   "parameters": {},
   "start_time": "2020-08-14T23:47:37.793348",
   "version": "2.1.0"
  }
 },
 "nbformat": 4,
 "nbformat_minor": 4
}
